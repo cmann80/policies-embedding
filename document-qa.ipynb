{
 "cells": [
  {
   "cell_type": "code",
   "execution_count": 1,
   "metadata": {},
   "outputs": [],
   "source": [
    "from transformers import AutoTokenizer, AutoModel\n",
    "import torch\n",
    "\n",
    "# Load model from HuggingFace Hub\n",
    "tokenizer = AutoTokenizer.from_pretrained('BAAI/bge-large-en-v1.5')\n",
    "model = AutoModel.from_pretrained('BAAI/bge-large-en-v1.5')\n",
    "\n",
    "doc_embeddings = torch.load(\"embeddings/document_embeddings.pt\")\n",
    "\n",
    "\n"
   ]
  },
  {
   "cell_type": "code",
   "execution_count": 2,
   "metadata": {},
   "outputs": [],
   "source": [
    "def generate_question_embedding(question, tokenizer, model):\n",
    "    inputs = tokenizer(question, return_tensors=\"pt\", padding=True, truncation=True, max_length=512)\n",
    "    with torch.no_grad():\n",
    "        outputs = model(**inputs)\n",
    "    return outputs.last_hidden_state.mean(dim=1)  # Mean pooling"
   ]
  },
  {
   "cell_type": "code",
   "execution_count": 7,
   "metadata": {},
   "outputs": [
    {
     "name": "stdout",
     "output_type": "stream",
     "text": [
      "Indices of top 5 most similar excerpts: tensor([929, 568, 519, 143, 928])\n",
      "Similarities of top 5 excerpts: tensor([0.9986, 0.9963, 0.9928, 0.9924, 0.9911])\n"
     ]
    }
   ],
   "source": [
    "import torch\n",
    "from torch.nn.functional import cosine_similarity\n",
    "\n",
    "question_embedding = generate_question_embedding(input(), tokenizer, model)\n",
    "\n",
    "# Assume question_embedding is your query embedding, normalized to unit length\n",
    "# doc_embeddings is a 2D tensor, with each row being an embedding for a different excerpt of the document\n",
    "\n",
    "# Normalize doc_embeddings to unit length for each excerpt\n",
    "doc_embeddings = doc_embeddings / doc_embeddings.norm(dim=1, keepdim=True)\n",
    "\n",
    "# Calculate cosine similarity between the question embedding and all document excerpt embeddings\n",
    "similarities = cosine_similarity(question_embedding.unsqueeze(0), doc_embeddings)\n",
    "\n",
    "similarities = similarities.flatten()\n",
    "\n",
    "# Sort the similarities and get indices in descending order\n",
    "sorted_indices = torch.argsort(similarities, descending=True)\n",
    "\n",
    "# Extract the top N indices for the most similar excerpts\n",
    "N = 5\n",
    "top_n_indices = sorted_indices[:N]\n",
    "\n",
    "# Correctly accessing the similarities using top N indices\n",
    "# Since similarities is 1D, top_n_indices should directly index the similarities without error\n",
    "top_n_similarities = similarities[top_n_indices]\n",
    "\n",
    "print(f\"Indices of top {N} most similar excerpts: {top_n_indices}\")\n",
    "print(f\"Similarities of top {N} excerpts: {top_n_similarities}\")\n",
    "\n"
   ]
  },
  {
   "cell_type": "code",
   "execution_count": null,
   "metadata": {},
   "outputs": [],
   "source": [
    "# Assuming top_n_indices are the indices of the top N most similar excerpts\n",
    "\n",
    "# Print the corresponding excerpts' text\n",
    "print(\"Top N most similar excerpts:\")\n",
    "for index in top_n_indices:\n",
    "    print(excerpts[index])  # Access and print the excerpt text by index\n"
   ]
  }
 ],
 "metadata": {
  "kernelspec": {
   "display_name": "Python 3",
   "language": "python",
   "name": "python3"
  },
  "language_info": {
   "codemirror_mode": {
    "name": "ipython",
    "version": 3
   },
   "file_extension": ".py",
   "mimetype": "text/x-python",
   "name": "python",
   "nbconvert_exporter": "python",
   "pygments_lexer": "ipython3",
   "version": "3.10.12"
  }
 },
 "nbformat": 4,
 "nbformat_minor": 2
}
