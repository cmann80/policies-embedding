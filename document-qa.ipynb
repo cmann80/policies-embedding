{
 "cells": [
  {
   "cell_type": "code",
   "execution_count": null,
   "metadata": {},
   "outputs": [],
   "source": [
    "from transformers import AutoTokenizer, AutoModel\n",
    "import torch\n",
    "\n",
    "# Load model from HuggingFace Hub\n",
    "tokenizer = AutoTokenizer.from_pretrained('BAAI/bge-large-en-v1.5')\n",
    "model = AutoModel.from_pretrained('BAAI/bge-large-en-v1.5')\n",
    "\n",
    "doc_embeddings = torch.load(\"embeddings/document_embeddings.pt\")\n",
    "\n",
    "\n"
   ]
  },
  {
   "cell_type": "code",
   "execution_count": null,
   "metadata": {},
   "outputs": [],
   "source": [
    "def generate_question_embedding(question, tokenizer, model):\n",
    "    inputs = tokenizer(question, return_tensors=\"pt\", padding=True, truncation=True, max_length=512)\n",
    "    with torch.no_grad():\n",
    "        outputs = model(**inputs)\n",
    "    return outputs.last_hidden_state.mean(dim=1)  # Mean pooling"
   ]
  },
  {
   "cell_type": "code",
   "execution_count": null,
   "metadata": {},
   "outputs": [],
   "source": [
    "import torch\n",
    "from torch.nn.functional import cosine_similarity\n",
    "\n",
    "question_embedding = generate_question_embedding(input(), tokenizer, model)\n",
    "\n",
    "# Assume question_embedding is your query embedding, normalized to unit length\n",
    "# doc_embeddings is a 2D tensor, with each row being an embedding for a different excerpt of the document\n",
    "\n",
    "# Normalize doc_embeddings to unit length for each excerpt\n",
    "doc_embeddings = doc_embeddings / doc_embeddings.norm(dim=1, keepdim=True)\n",
    "\n",
    "# Calculate cosine similarity between the question embedding and all document excerpt embeddings\n",
    "similarities = cosine_similarity(question_embedding.unsqueeze(0), doc_embeddings)\n",
    "\n",
    "similarities = similarities.flatten()\n",
    "\n",
    "# Sort the similarities and get indices in descending order\n",
    "sorted_indices = torch.argsort(similarities, descending=True)\n",
    "\n",
    "# Extract the top N indices for the most similar excerpts\n",
    "N = 5\n",
    "top_n_indices = sorted_indices[:N]\n",
    "\n",
    "# Correctly accessing the similarities using top N indices\n",
    "# Since similarities is 1D, top_n_indices should directly index the similarities without error\n",
    "top_n_similarities = similarities[top_n_indices]\n",
    "\n",
    "print(f\"Indices of top {N} most similar excerpts: {top_n_indices}\")\n",
    "print(f\"Similarities of top {N} excerpts: {top_n_similarities}\")\n",
    "\n"
   ]
  },
  {
   "cell_type": "code",
   "execution_count": null,
   "metadata": {},
   "outputs": [],
   "source": [
    "\n",
    "from transformers import AutoTokenizer, AutoModelForQuestionAnswering\n",
    "\n",
    "tokenizer = AutoTokenizer.from_pretrained(\"bert-large-uncased-whole-word-masking-finetuned-squad\")\n",
    "model = AutoModelForQuestionAnswering.from_pretrained(\"bert-large-uncased-whole-word-masking-finetuned-squad\")\n",
    "\n"
   ]
  },
  {
   "cell_type": "code",
   "execution_count": null,
   "metadata": {},
   "outputs": [],
   "source": [
    "inputs = tokenizer.encode_plus(\"What is the question?\", \"This is the context passage that contains the answer.\", return_tensors='pt')\n"
   ]
  },
  {
   "cell_type": "code",
   "execution_count": null,
   "metadata": {},
   "outputs": [],
   "source": [
    "with torch.no_grad():\n",
    "    outputs = model(**inputs)\n",
    "answer_start_scores, answer_end_scores = outputs.start_logits, outputs.end_logits\n",
    "\n",
    "# Find the position (token indices) with the highest start and end scores\n",
    "answer_start = torch.argmax(answer_start_scores)\n",
    "answer_end = torch.argmax(answer_end_scores) + 1  # add 1 to include the end token\n"
   ]
  },
  {
   "cell_type": "code",
   "execution_count": null,
   "metadata": {},
   "outputs": [],
   "source": [
    "answer = tokenizer.convert_tokens_to_string(tokenizer.convert_ids_to_tokens(inputs[\"input_ids\"][0][answer_start:answer_end]))"
   ]
  },
  {
   "cell_type": "code",
   "execution_count": null,
   "metadata": {},
   "outputs": [],
   "source": [
    "print(answer)"
   ]
  }
 ],
 "metadata": {
  "kernelspec": {
   "display_name": "Python 3",
   "language": "python",
   "name": "python3"
  },
  "language_info": {
   "codemirror_mode": {
    "name": "ipython",
    "version": 3
   },
   "file_extension": ".py",
   "mimetype": "text/x-python",
   "name": "python",
   "nbconvert_exporter": "python",
   "pygments_lexer": "ipython3",
   "version": "3.10.12"
  }
 },
 "nbformat": 4,
 "nbformat_minor": 2
}
