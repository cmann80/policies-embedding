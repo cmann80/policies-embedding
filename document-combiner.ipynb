{
 "cells": [
  {
   "cell_type": "code",
   "execution_count": null,
   "metadata": {},
   "outputs": [],
   "source": [
    "import os\n",
    "\n",
    "# Set the directory containing your documents\n",
    "documents_dir = 'documents'\n",
    "# Set the name of the combined output file\n",
    "output_file_name = 'combined_documents.txt'\n",
    "\n",
    "# Use os.path.join to ensure the path works across different operating systems\n",
    "output_file_path = os.path.join(documents_dir, output_file_name)\n",
    "\n",
    "# Open the output file in write mode (this will create a new file or overwrite an existing one)\n",
    "with open(output_file_path, 'w') as output_file:\n",
    "    # Loop through each file in the documents directory\n",
    "    for file_name in os.listdir(documents_dir):\n",
    "        # Construct the full path to the file\n",
    "        file_path = os.path.join(documents_dir, file_name)\n",
    "        \n",
    "        # Check if the current item is a file and not the output file itself\n",
    "        if os.path.isfile(file_path) and file_name != output_file_name:\n",
    "            # Open the current document file in read mode\n",
    "            with open(file_path, 'r') as input_file:\n",
    "                # Read the content of the document\n",
    "                file_content = input_file.read()\n",
    "                \n",
    "                # Write the content to the output file\n",
    "                output_file.write(file_content)\n",
    "                \n",
    "                # Optionally, add a newline between documents to ensure separation\n",
    "                output_file.write('\\n')\n",
    "\n",
    "print(f\"All documents have been combined into {output_file_path}\")\n"
   ]
  }
 ],
 "metadata": {
  "kernelspec": {
   "display_name": "Python 3",
   "language": "python",
   "name": "python3"
  },
  "language_info": {
   "codemirror_mode": {
    "name": "ipython",
    "version": 3
   },
   "file_extension": ".py",
   "mimetype": "text/x-python",
   "name": "python",
   "nbconvert_exporter": "python",
   "pygments_lexer": "ipython3",
   "version": "3.10.12"
  }
 },
 "nbformat": 4,
 "nbformat_minor": 2
}
